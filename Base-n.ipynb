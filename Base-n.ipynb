{
 "cells": [
  {
   "cell_type": "code",
   "execution_count": 1,
   "id": "95454f1f-170f-47ef-ac53-b29092197f23",
   "metadata": {},
   "outputs": [],
   "source": [
    "# def inBaseN(i,n):\n",
    "#   \"\"\"\n",
    "#   requires: n>1\n",
    "#   takes an integer in base 10, returns that integer in base n>1\n",
    "#   \"\"\"\n",
    "#   result = []\n",
    "#   while i>=n:\n",
    "#     q,r= i//n,i%n\n",
    "#     # print(q,r)\n",
    "#     result.append(r)\n",
    "#     i = q\n",
    "#   result.append(i)\n",
    "#   return tuple(result[::-1])\n",
    "\n",
    "class BaseN:\n",
    "  def convert(i,n):\n",
    "    \"\"\"\n",
    "    requires: n>1\n",
    "    takes an integer i in base 10, returns that integer in base n>1\n",
    "    \"\"\"\n",
    "    result = []\n",
    "    while i>=n:\n",
    "      q,r= i//n,i%n\n",
    "      # print(q,r)\n",
    "      result.append(r)\n",
    "      i = q\n",
    "    result.append(i)\n",
    "    return tuple(result[::-1])\n",
    "  _pool = {}\n",
    "  \n",
    "  \n",
    "  \n",
    "  def __init__(self,dec,base):\n",
    "    self._base = base\n",
    "    self._number = BaseN.convert(dec,base)\n",
    "    \n",
    "  @property\n",
    "  def base(self):\n",
    "    return self._base\n",
    "  \n",
    "  @property\n",
    "  def decimal(self):\n",
    "    \"\"\"returns the number as an integer\"\"\"\n",
    "    result = 0\n",
    "    exp = -1\n",
    "    for n in self._number[::-1]:\n",
    "      exp += 1\n",
    "      result += n * (self.base ** exp)\n",
    "    return result\n",
    "    \n",
    "  @classmethod\n",
    "  def of(cls,dec,base):\n",
    "    if base not in cls._pool:\n",
    "      cls._pool[base] = {}\n",
    "    if dec not in cls._pool[base]:\n",
    "      cls._pool[base][dec] = BaseN(dec,base)\n",
    "    return cls._pool[base][dec]\n",
    "  \n",
    "  def __repr__(self):\n",
    "    number,base = self._number,self._base\n",
    "    return (str(number).replace(\" \", \"\") if base >= 10 else str(number).replace(\" \",\"\").replace(\",\",\"\")) + '(' + (('base ' + str(base)) if base != 2 else 'bin') +')'"
   ]
  },
  {
   "cell_type": "code",
   "execution_count": 2,
   "id": "6e017860-0f18-4205-a5f6-790161937559",
   "metadata": {},
   "outputs": [],
   "source": [
    "class Bin(BaseN):\n",
    "  def convert(i):\n",
    "    result = []\n",
    "    while i>=2:\n",
    "      q,r= i//2,i%2\n",
    "      result.append(bool(r))\n",
    "      i = q\n",
    "    result.append(bool(i))\n",
    "    return tuple(result[::-1])\n",
    "  \n",
    "  def __init__(self,dec):\n",
    "    self._base = 2\n",
    "    self._number = Bin.convert(dec)\n",
    "  \n",
    "  @classmethod\n",
    "  def of(cls,dec):\n",
    "    if dec not in cls._pool:\n",
    "      cls._pool[dec] = Bin(dec)\n",
    "    return cls._pool[dec]\n",
    "  \n",
    "  def numberString(self):\n",
    "    return str(self)[1:-6]\n",
    "  \n",
    "  def __repr__(self):\n",
    "    number,base = self._number,self._base\n",
    "    return '(' + str([int(n) for n in number])[1:-1].replace(\" \", \"\").replace(',','') + ')(bin)'"
   ]
  },
  {
   "cell_type": "code",
   "execution_count": 3,
   "id": "57ca5439-3ec3-443d-8a4f-3a4bec2929d0",
   "metadata": {},
   "outputs": [],
   "source": [
    "a = Bin.of(5213)"
   ]
  },
  {
   "cell_type": "code",
   "execution_count": 5,
   "id": "c4ab22fb-22e6-4a68-9276-b1eae8131272",
   "metadata": {},
   "outputs": [
    {
     "data": {
      "text/plain": [
       "{5213: (1010001011101)(bin)}"
      ]
     },
     "execution_count": 5,
     "metadata": {},
     "output_type": "execute_result"
    }
   ],
   "source": [
    "Bin._pool"
   ]
  }
 ],
 "metadata": {
  "kernelspec": {
   "display_name": "Python 3 (ipykernel)",
   "language": "python",
   "name": "python3"
  },
  "language_info": {
   "codemirror_mode": {
    "name": "ipython",
    "version": 3
   },
   "file_extension": ".py",
   "mimetype": "text/x-python",
   "name": "python",
   "nbconvert_exporter": "python",
   "pygments_lexer": "ipython3",
   "version": "3.9.12"
  }
 },
 "nbformat": 4,
 "nbformat_minor": 5
}
