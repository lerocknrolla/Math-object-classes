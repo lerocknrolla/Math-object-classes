{
 "cells": [
  {
   "cell_type": "code",
   "execution_count": 1,
   "id": "f686a7a6-c468-40ac-add1-8c06274d6a71",
   "metadata": {},
   "outputs": [],
   "source": [
    "from abc import ABC,abstractmethod\n",
    "\n",
    "class MatrixAPI(ABC):\n",
    "  \"\"\"class of standard m*n matrices, por positive integers m and n\"\"\"\n",
    "  \n",
    "  @abstractmethod\n",
    "  def set(self,i,j,entry):\n",
    "    \"\"\"adds/substitutes entry at line i, column j (counted from 1, not 0, as is standard among mathematicians)\n",
    "    requires: 1<=i<=m, 1<=j<=n\"\"\"\n",
    "    pass\n",
    "  \n",
    "  @abstractmethod\n",
    "  def get(self,i,j):\n",
    "    \"\"\"returns the entry at line i, column j of the matrix\n",
    "    requires the matrix to be of size at least i*j\"\"\"\n",
    "  \n",
    "  @abstractmethod\n",
    "  def nLines(self):\n",
    "    \"\"\"returns number of lines in the matrix\"\"\"\n",
    "    pass\n",
    "  \n",
    "  @abstractmethod\n",
    "  def line(self,i):\n",
    "    \"\"\"requires: 0 < i <= self.nLines\n",
    "    returns matrix's i-th line as list\"\"\"\n",
    "    pass\n",
    "    \n",
    "  @abstractmethod\n",
    "  def nColumns(self):\n",
    "    \"\"\"returns number of columns in the matrix\"\"\"\n",
    "    pass\n",
    "  \n",
    "  @abstractmethod\n",
    "  def column(self,j):\n",
    "    \"\"\"requires: 0 < j <= self.nColumns\n",
    "    returns matrix's j-th column as list\"\"\"\n",
    "    pass\n",
    "  \n",
    "  @abstractmethod\n",
    "  def size(self):\n",
    "    \"\"\"returns tuple (number of lines, number of columns)\"\"\"\n",
    "    pass\n",
    "  \n",
    "  @abstractmethod\n",
    "  def sameSize(self,other):\n",
    "    \"\"\"\n",
    "    requires: self and other are both matrices\n",
    "    returns True iff self and other have the same number of columns and lines\"\"\"\n",
    "    pass\n",
    "  \n",
    "  @abstractmethod\n",
    "  def isSquare(self):\n",
    "    \"\"\"returns True iff matrix has the same number of lines and columns\"\"\"\n",
    "    pass\n",
    "  \n",
    "  @abstractmethod\n",
    "  def isDiagonal(self):\n",
    "    \"\"\"returns True iff matrix isSquare() and all non-null entries are on the main diagonal\"\"\"\n",
    "    pass\n",
    "    \n",
    "  @abstractmethod\n",
    "  def isScalar(self):\n",
    "    \"\"\"returns True iff matrix isDiagonal() and all the entries on the main diagonal are the same number\"\"\"\n",
    "    pass\n",
    "  \n",
    "  @abstractmethod\n",
    "  def __sum__(self,m2):\n",
    "    \"\"\"requires: self.size() == m2.size()\n",
    "    returns matrix of same size, where each entry is the sum of the corresponding entries in self and m2\"\"\"\n",
    "    pass\n",
    "  \n",
    "  @abstractmethod\n",
    "  def __mul__(self,m2):\n",
    "    \"\"\"requires self.nColumns == m2.nLines\n",
    "    returns a self.nLines * m2.nColumns matrix, where each (i,j) entry is the dot product of self's line i with m2's column j\"\"\"\n",
    "    pass"
   ]
  },
  {
   "cell_type": "code",
   "execution_count": 2,
   "id": "3729cf49-3afe-42db-af4a-18973179fe88",
   "metadata": {},
   "outputs": [],
   "source": [
    "class Matrix:\n",
    "  def sameSize(self,other):\n",
    "    return self.size == other.size\n",
    "  \n",
    "  def __add__(self,other):\n",
    "    if not self.sameSize(other):\n",
    "      raise ValueError('Can only sum matrices with same number of columns and same number of lines!')\n",
    "    else:\n",
    "      m,n = self.size\n",
    "      result = MatrixL(m,n)\n",
    "      for i in range(1,m+1):\n",
    "        for j in range(1,n+1):\n",
    "          entry = self.get(i,j)+other.get(i,j)\n",
    "          result.set(i,j,entry)\n",
    "      return result\n",
    "    \n",
    "  @property\n",
    "  def size(self):\n",
    "    return (self.nLines,self.nColumns)\n",
    "  \n",
    "  @classmethod\n",
    "  def allSameSize(cls,*matrices):\n",
    "    for i,matrix in enumerate(matrices):\n",
    "      if not i:\n",
    "        size = matrix.size\n",
    "      else:\n",
    "        if matrix.size != size:\n",
    "          return False\n",
    "    return True    \n",
    "  \n",
    "  @classmethod\n",
    "  def sum(cls,*matrices):\n",
    "    if not cls.allSameSize(matrices):\n",
    "      raise ValueError('Matrices must all be the same size to be added!')\n",
    "    else:\n",
    "      for i,m in matrices:\n",
    "        if not i:\n",
    "          result = MatrixD(*m.size)\n",
    "        result += m\n",
    "      return result"
   ]
  },
  {
   "cell_type": "code",
   "execution_count": 3,
   "id": "b76ae9b4-b49d-4b69-86db-b469e096887d",
   "metadata": {},
   "outputs": [],
   "source": [
    "class MatrixL(Matrix):\n",
    "  \"\"\"mutable class of standard m*n matrices, implemented as list of lists\"\"\"\n",
    "  \n",
    "  def __init__(self,m=1,n=1):\n",
    "    \"\"\"creates a null m*n matrix\"\"\"\n",
    "    if any(((not isinstance(m,int)),(not isinstance(n,int)),m<1,n<1)):\n",
    "      raise AttributeError('Parameters must positive integers!')\n",
    "    else:\n",
    "      self._table = [[0 for _ in range(n)] for _ in range(m)]\n",
    "    \n",
    "  def get(self,i,j):\n",
    "    \"\"\"i,j are positive integers\n",
    "    returns the matrix's entry at the i-th line, j-th column,\n",
    "    counted from 1 (not 0), as is typical in mathematics\"\"\"\n",
    "    return self._table[i-1][j-1]\n",
    "  \n",
    "  def set(self,i,j,value):\n",
    "    self._table[i-1][j-1] = value\n",
    "    \n",
    "  @property\n",
    "  def nLines(self):\n",
    "    return len(self._table[0])\n",
    "  \n",
    "  @property\n",
    "  def nColumns(self):\n",
    "    return len(self._table)"
   ]
  },
  {
   "cell_type": "code",
   "execution_count": 4,
   "id": "cab9198c-7930-4023-a2ce-05991599963b",
   "metadata": {},
   "outputs": [],
   "source": [
    "class MatrixD(Matrix):\n",
    "  \"\"\"mutable class of standard m*n matrices, implemented as dictionary\"\"\"\n",
    "  \n",
    "  def __init__(self,m=1,n=1):\n",
    "    \"\"\"creates a null m*n matrix\"\"\"\n",
    "    if any(((not isinstance(m,int)),(not isinstance(n,int)),m<1,n<1)):\n",
    "      raise AttributeError('Parameters must positive integers!')\n",
    "    else:\n",
    "      self._table = {}\n",
    "      self._size = (m,n)\n",
    "      \n",
    "  def get(self,i,j):\n",
    "    return self._table.get((i,j),0)\n",
    "  \n",
    "  def set(self,i,j,value):\n",
    "    self._table[(i,j)] = value\n",
    "    \n",
    "  @property\n",
    "  def nLines(self):\n",
    "    return self._size[0]\n",
    "  \n",
    "  @property\n",
    "  def nColumns(self):\n",
    "    return self._size[1]"
   ]
  },
  {
   "cell_type": "code",
   "execution_count": 5,
   "id": "29e2b069-f593-4104-8e41-09fa6c34204a",
   "metadata": {},
   "outputs": [],
   "source": [
    "m = MatrixL(3,3)\n",
    "m2 = MatrixD(3,3)\n",
    "m3 = MatrixL(3,4)"
   ]
  },
  {
   "cell_type": "code",
   "execution_count": 6,
   "id": "cb74ce96-785c-4b2a-90bf-66f8698660ae",
   "metadata": {},
   "outputs": [],
   "source": [
    "m.set(1,2,4)\n",
    "m.set(1,1,1)\n",
    "m.set(3,2,3)"
   ]
  },
  {
   "cell_type": "code",
   "execution_count": 7,
   "id": "0ea4a408-b799-4384-a4ed-35d0b32f73d3",
   "metadata": {},
   "outputs": [],
   "source": [
    "m2.set(1,3,1)\n",
    "m2.set(3,2,4)\n",
    "m2.set(3,3,5)"
   ]
  },
  {
   "cell_type": "code",
   "execution_count": 8,
   "id": "93c41f1a-6b62-498e-a4c0-63ef7224d8e8",
   "metadata": {},
   "outputs": [
    {
     "data": {
      "text/plain": [
       "0"
      ]
     },
     "execution_count": 8,
     "metadata": {},
     "output_type": "execute_result"
    }
   ],
   "source": [
    "m.get(1,3)"
   ]
  },
  {
   "cell_type": "code",
   "execution_count": 9,
   "id": "0cd9ded4-0f88-4789-a522-17095f29aeb4",
   "metadata": {},
   "outputs": [
    {
     "data": {
      "text/plain": [
       "False"
      ]
     },
     "execution_count": 9,
     "metadata": {},
     "output_type": "execute_result"
    }
   ],
   "source": [
    "m.sameSize(m3)"
   ]
  },
  {
   "cell_type": "code",
   "execution_count": 10,
   "id": "5e9fd3c6-4c55-4480-b9b3-2965d888b974",
   "metadata": {},
   "outputs": [],
   "source": [
    "m4 = m + m2"
   ]
  },
  {
   "cell_type": "code",
   "execution_count": 11,
   "id": "b6abfe5e-a8b6-408a-8480-2fc1ea7cbdf8",
   "metadata": {},
   "outputs": [
    {
     "data": {
      "text/plain": [
       "True"
      ]
     },
     "execution_count": 11,
     "metadata": {},
     "output_type": "execute_result"
    }
   ],
   "source": [
    "m2.sameSize(m4)"
   ]
  },
  {
   "cell_type": "code",
   "execution_count": 12,
   "id": "c2c3f9f4-af43-4637-a1a2-80d4bf5a4b97",
   "metadata": {},
   "outputs": [
    {
     "name": "stdout",
     "output_type": "stream",
     "text": [
      "[[1, 4, 0], [0, 0, 0], [0, 3, 0]]\n",
      "{(1, 3): 1, (3, 2): 4, (3, 3): 5}\n",
      "[[1, 4, 1], [0, 0, 0], [0, 7, 5]]\n"
     ]
    }
   ],
   "source": [
    "for matr in (m,m2,m4):\n",
    "  print(matr._table)"
   ]
  },
  {
   "cell_type": "code",
   "execution_count": 13,
   "id": "7727ebd9-fe4d-4495-b58d-6318374df2e8",
   "metadata": {},
   "outputs": [
    {
     "ename": "AttributeError",
     "evalue": "'tuple' object has no attribute 'size'",
     "output_type": "error",
     "traceback": [
      "\u001b[1;31m---------------------------------------------------------------------------\u001b[0m",
      "\u001b[1;31mAttributeError\u001b[0m                            Traceback (most recent call last)",
      "Input \u001b[1;32mIn [13]\u001b[0m, in \u001b[0;36m<cell line: 1>\u001b[1;34m()\u001b[0m\n\u001b[1;32m----> 1\u001b[0m m5 \u001b[38;5;241m=\u001b[39m \u001b[43mMatrix\u001b[49m\u001b[38;5;241;43m.\u001b[39;49m\u001b[43msum\u001b[49m\u001b[43m(\u001b[49m\u001b[43mm\u001b[49m\u001b[43m,\u001b[49m\u001b[43mm2\u001b[49m\u001b[43m,\u001b[49m\u001b[43mm4\u001b[49m\u001b[43m)\u001b[49m\n",
      "Input \u001b[1;32mIn [2]\u001b[0m, in \u001b[0;36mMatrix.sum\u001b[1;34m(cls, *matrices)\u001b[0m\n\u001b[0;32m     31\u001b[0m \u001b[38;5;129m@classmethod\u001b[39m\n\u001b[0;32m     32\u001b[0m \u001b[38;5;28;01mdef\u001b[39;00m \u001b[38;5;21msum\u001b[39m(\u001b[38;5;28mcls\u001b[39m,\u001b[38;5;241m*\u001b[39mmatrices):\n\u001b[1;32m---> 33\u001b[0m   \u001b[38;5;28;01mif\u001b[39;00m \u001b[38;5;129;01mnot\u001b[39;00m \u001b[38;5;28;43mcls\u001b[39;49m\u001b[38;5;241;43m.\u001b[39;49m\u001b[43mallSameSize\u001b[49m\u001b[43m(\u001b[49m\u001b[43mmatrices\u001b[49m\u001b[43m)\u001b[49m:\n\u001b[0;32m     34\u001b[0m     \u001b[38;5;28;01mraise\u001b[39;00m \u001b[38;5;167;01mValueError\u001b[39;00m(\u001b[38;5;124m'\u001b[39m\u001b[38;5;124mMatrices must all be the same size to be added!\u001b[39m\u001b[38;5;124m'\u001b[39m)\n\u001b[0;32m     35\u001b[0m   \u001b[38;5;28;01melse\u001b[39;00m:\n",
      "Input \u001b[1;32mIn [2]\u001b[0m, in \u001b[0;36mMatrix.allSameSize\u001b[1;34m(cls, *matrices)\u001b[0m\n\u001b[0;32m     23\u001b[0m \u001b[38;5;28;01mfor\u001b[39;00m i,matrix \u001b[38;5;129;01min\u001b[39;00m \u001b[38;5;28menumerate\u001b[39m(matrices):\n\u001b[0;32m     24\u001b[0m   \u001b[38;5;28;01mif\u001b[39;00m \u001b[38;5;129;01mnot\u001b[39;00m i:\n\u001b[1;32m---> 25\u001b[0m     size \u001b[38;5;241m=\u001b[39m \u001b[43mmatrix\u001b[49m\u001b[38;5;241;43m.\u001b[39;49m\u001b[43msize\u001b[49m\n\u001b[0;32m     26\u001b[0m   \u001b[38;5;28;01melse\u001b[39;00m:\n\u001b[0;32m     27\u001b[0m     \u001b[38;5;28;01mif\u001b[39;00m matrix\u001b[38;5;241m.\u001b[39msize \u001b[38;5;241m!=\u001b[39m size:\n",
      "\u001b[1;31mAttributeError\u001b[0m: 'tuple' object has no attribute 'size'"
     ]
    }
   ],
   "source": [
    "m5 = Matrix.sum(m,m2,m4)"
   ]
  }
 ],
 "metadata": {
  "kernelspec": {
   "display_name": "Python 3 (ipykernel)",
   "language": "python",
   "name": "python3"
  },
  "language_info": {
   "codemirror_mode": {
    "name": "ipython",
    "version": 3
   },
   "file_extension": ".py",
   "mimetype": "text/x-python",
   "name": "python",
   "nbconvert_exporter": "python",
   "pygments_lexer": "ipython3",
   "version": "3.9.12"
  }
 },
 "nbformat": 4,
 "nbformat_minor": 5
}
