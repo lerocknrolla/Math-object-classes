{
 "cells": [
  {
   "cell_type": "code",
   "execution_count": 1,
   "id": "76873542-d01a-4de2-944d-80aad9a0873c",
   "metadata": {},
   "outputs": [],
   "source": [
    "class Frac:\n",
    "  \"\"\"class for rational numbers implemented as tuples of irreducible fractions, hence immutable\"\"\"\n",
    "  _pool = {} # this dictionary will store the numbers generated so far\n",
    "  \n",
    "  from math import gcd\n",
    "    \n",
    "  \n",
    "  def __init__(self,num,den=1):\n",
    "    if den == 0:\n",
    "      raise AttributeError('Denominator must not be 0 for a rational number.')\n",
    "    if (not isinstance(num,int)) or (not isinstance(den,int)):\n",
    "      raise AttributeError('Numerator and denominator must both be integers.')\n",
    "    if den < 0: #we will store the denominator as always positive, and the numerator will hold the sign\n",
    "      num *= -1\n",
    "      den *= -1\n",
    "    g = self.gcd(num,den) #reduce the fraction to irreducible\n",
    "    \n",
    "    self._num = num // g\n",
    "    self._den = den // g\n",
    "    \n",
    "  @classmethod\n",
    "  def of(cls,num,den=1):\n",
    "    \"\"\"\n",
    "    object factory, must use this for class to work properly\n",
    "    requires: num,den are ints or floats\n",
    "    if num and/or den are floats, they will be converted to a fraction using python's builtin as_integer_ratio() method for floats\n",
    "    \"\"\"\n",
    "    if isinstance(num,float):\n",
    "      num,denOfNum = num.as_integer_ratio()\n",
    "      if isinstance(den,int):\n",
    "        den *= denOfNum\n",
    "      elif isinstance(den,float):\n",
    "        numOfDen,den = den.as_integer_ratio()\n",
    "        num,den = num *den, denOfNum * numOfDen\n",
    "    elif isinstance(den,float):\n",
    "      numOfDen,den = den.as_integer_ratio()\n",
    "      num *= den\n",
    "      den = numOfDen\n",
    "    newFrac = cls(num,den) #creates a new, reduced fraction from the input\n",
    "    key = (newFrac._num,newFrac._den)\n",
    "    if key not in cls._pool:\n",
    "      cls._pool[key] = newFrac #checks if this reduced fraction is in the dictionary, if not, adds it\n",
    "    return cls._pool[key] #returns the reduced fraction\n",
    "  \n",
    "  def __repr__(self):\n",
    "    \"\"\"\n",
    "    prints the fraction as '(numerator/denominator)', or just 'numerator' if the denominator is 1,\n",
    "    to avoid ambiguity in the first case, and reduce parentheses in the second case, in long expressions\n",
    "    \"\"\"\n",
    "    num,den = self._num,self._den\n",
    "    if den == 1:\n",
    "      return f'{num}'\n",
    "    return f'({num}/{den})'\n",
    "  \n",
    "  def __add__(self,frac2):\n",
    "    if type(frac2) in [int,float]:\n",
    "      frac2 = Frac.of(frac2)\n",
    "    n1,d1,n2,d2 = self._num,self._den,frac2._num,frac2._den\n",
    "    return Frac.of(n1*d2 + n2*d1,d1*d2)\n",
    "  \n",
    "  def __neg__(self):\n",
    "    return Frac.of(-self._num,self._den)\n",
    "  \n",
    "  def __sub__(self,frac2):\n",
    "    if type(frac2) in [int,float]:\n",
    "      frac2 = Frac.of(frac2)\n",
    "    return self + -frac2\n",
    "  \n",
    "  def __mul__(self,frac2):\n",
    "    if type(frac2) in [int,float]:\n",
    "      frac2 = Frac.of(frac2)\n",
    "    n1,d1,n2,d2 = self._num,self._den,frac2._num,frac2._den\n",
    "    return Frac.of(n1*n2,d1*d2)\n",
    "  \n",
    "  def _inv(self):\n",
    "    if self._num == 0:\n",
    "      raise ZeroDivisionError(\"You can't divide by 0!\")\n",
    "    return Frac.of(self._den,self._num)\n",
    "  \n",
    "  def __truediv__(self,frac2):\n",
    "    if type(frac2) in [int,float]:\n",
    "      frac2 = Frac.of(frac2)\n",
    "    return self * frac2._inv()\n",
    "      \n",
    "  # @classmethod\n",
    "  # def _floatToFrac(cls,fl):\n",
    "  #   \"\"\"\n",
    "  #   takes a float\n",
    "  #   returns the reduced fraction that represents that float\n",
    "  #   using python's builtin .as_integer_ratio() method\n",
    "  #   \"\"\"\n",
    "  #   if not isinstance(fl,float):\n",
    "  #     raise TypeError(\"The input must be a float!\")\n",
    "  #   num,den = fl.as_integer_ratio()\n",
    "  #   return cls.of(num,den)\n",
    "    \n",
    "  # def __eq__(self,frac2):\n",
    "  #   n1,d1,n2,d2 = self._num,self._den,frac2._num,frac2._den\n",
    "  #   return n1==n2 and d1==d2\n",
    "\n",
    "  @classmethod\n",
    "  def sum(cls,*args):\n",
    "    \"\"\"requires: args are Frac objects\"\"\"\n",
    "    result = Frac.of(0)\n",
    "    for arg in args:\n",
    "      result += arg\n",
    "    return result\n",
    "  \n",
    "  @classmethod\n",
    "  def product(cls,*args):\n",
    "    \"\"\"requires: args are Frac objects\"\"\"\n",
    "    result = Frac.of(1)\n",
    "    for arg in args:\n",
    "      result *= arg\n",
    "    return result"
   ]
  },
  {
   "cell_type": "code",
   "execution_count": 2,
   "id": "0c28660e-f184-4b9c-987e-bb32d579c3e0",
   "metadata": {},
   "outputs": [],
   "source": [
    "f1 = Frac.of(1,2)"
   ]
  },
  {
   "cell_type": "code",
   "execution_count": 3,
   "id": "d92fcb20-593f-41a2-b705-e596547d05bf",
   "metadata": {},
   "outputs": [],
   "source": [
    "f2 = Frac.of(1,3)"
   ]
  },
  {
   "cell_type": "code",
   "execution_count": 4,
   "id": "fa47db0e-11f3-46cd-801e-a38f167a530a",
   "metadata": {
    "tags": []
   },
   "outputs": [],
   "source": [
    "f3 = Frac.of(2,4)"
   ]
  },
  {
   "cell_type": "code",
   "execution_count": 5,
   "id": "3d3feda3-d70a-4628-a46b-e6d0b2426ad4",
   "metadata": {},
   "outputs": [
    {
     "data": {
      "text/plain": [
       "True"
      ]
     },
     "execution_count": 5,
     "metadata": {},
     "output_type": "execute_result"
    }
   ],
   "source": [
    "f3 is f1"
   ]
  },
  {
   "cell_type": "code",
   "execution_count": 6,
   "id": "5cfcb122-d14d-45c1-8a0a-4fda786c54a4",
   "metadata": {},
   "outputs": [
    {
     "data": {
      "text/plain": [
       "(1/16)"
      ]
     },
     "execution_count": 6,
     "metadata": {},
     "output_type": "execute_result"
    }
   ],
   "source": [
    "Frac.product(f1,f1,f1,f1)"
   ]
  },
  {
   "cell_type": "code",
   "execution_count": 7,
   "id": "86390d64-e267-420b-867e-a536baf35381",
   "metadata": {},
   "outputs": [
    {
     "data": {
      "text/plain": [
       "{(1, 2): (1/2),\n",
       " (1, 3): (1/3),\n",
       " (1, 1): 1,\n",
       " (1, 4): (1/4),\n",
       " (1, 8): (1/8),\n",
       " (1, 16): (1/16)}"
      ]
     },
     "execution_count": 7,
     "metadata": {},
     "output_type": "execute_result"
    }
   ],
   "source": [
    "Frac._pool"
   ]
  },
  {
   "cell_type": "code",
   "execution_count": 8,
   "id": "e269470b-99d8-4891-b309-3b37189f3cb9",
   "metadata": {},
   "outputs": [
    {
     "data": {
      "text/plain": [
       "(5/6)"
      ]
     },
     "execution_count": 8,
     "metadata": {},
     "output_type": "execute_result"
    }
   ],
   "source": [
    "f1 + f2"
   ]
  },
  {
   "cell_type": "code",
   "execution_count": 9,
   "id": "1eebf8a4-ac45-4a09-a03e-7941a61324b3",
   "metadata": {},
   "outputs": [
    {
     "data": {
      "text/plain": [
       "True"
      ]
     },
     "execution_count": 9,
     "metadata": {},
     "output_type": "execute_result"
    }
   ],
   "source": [
    "f3 is Frac.of(5,10)"
   ]
  },
  {
   "cell_type": "code",
   "execution_count": 10,
   "id": "3b3f5b7e-3bee-472b-a619-309a03a2f413",
   "metadata": {},
   "outputs": [
    {
     "data": {
      "text/plain": [
       "1"
      ]
     },
     "execution_count": 10,
     "metadata": {},
     "output_type": "execute_result"
    }
   ],
   "source": [
    "f1 / f1"
   ]
  },
  {
   "cell_type": "code",
   "execution_count": 11,
   "id": "bb7465ac-5285-4d8f-9953-7dacd57ed8bd",
   "metadata": {},
   "outputs": [
    {
     "data": {
      "text/plain": [
       "(5/6)"
      ]
     },
     "execution_count": 11,
     "metadata": {},
     "output_type": "execute_result"
    }
   ],
   "source": [
    "f1.__add__(f2)"
   ]
  },
  {
   "cell_type": "code",
   "execution_count": 12,
   "id": "877eb5f0-181e-43d5-9c7a-9e32ea0ded53",
   "metadata": {},
   "outputs": [
    {
     "data": {
      "text/plain": [
       "9"
      ]
     },
     "execution_count": 12,
     "metadata": {},
     "output_type": "execute_result"
    }
   ],
   "source": [
    "f1 * Frac.of(2) + (Frac.of(48,2)* f2)"
   ]
  },
  {
   "cell_type": "code",
   "execution_count": 13,
   "id": "1a137e32-fec8-48e1-9eab-87392c15744e",
   "metadata": {},
   "outputs": [],
   "source": [
    "f4 = Frac.sum(f1,f1,f1,f1,f2,f3,f3,f3,f3,f3,f3,f3)"
   ]
  },
  {
   "cell_type": "code",
   "execution_count": 14,
   "id": "915263f8-191d-49b2-bd7c-902af6e2ab2e",
   "metadata": {},
   "outputs": [],
   "source": [
    "f5 = f4 - Frac.of(4)"
   ]
  },
  {
   "cell_type": "code",
   "execution_count": 15,
   "id": "b1323ee1-ce0f-4811-8bb7-327dc0858bec",
   "metadata": {},
   "outputs": [
    {
     "data": {
      "text/plain": [
       "11"
      ]
     },
     "execution_count": 15,
     "metadata": {},
     "output_type": "execute_result"
    }
   ],
   "source": [
    "f5*Frac.of(6)"
   ]
  },
  {
   "cell_type": "code",
   "execution_count": 16,
   "id": "9a5a5a75-fd42-4be7-8ddb-ff38458f99ce",
   "metadata": {},
   "outputs": [],
   "source": [
    "f6 = Frac.of(1,2) + 7.12345678 +f4"
   ]
  },
  {
   "cell_type": "code",
   "execution_count": 17,
   "id": "bb7f86ef-e915-408e-a91d-7a136e4a47c0",
   "metadata": {},
   "outputs": [
    {
     "name": "stdout",
     "output_type": "stream",
     "text": [
      "(22726498102504115/24415347962768051)\n"
     ]
    }
   ],
   "source": [
    "f6 /= (f6+1)\n",
    "print(f6)"
   ]
  },
  {
   "cell_type": "code",
   "execution_count": 18,
   "id": "45b4140b-3eaa-4e5c-abe8-4796420a5402",
   "metadata": {},
   "outputs": [],
   "source": [
    "f6/=f6"
   ]
  },
  {
   "cell_type": "code",
   "execution_count": 19,
   "id": "b67a8176-6ed8-4383-8222-a8547d964fb1",
   "metadata": {},
   "outputs": [
    {
     "data": {
      "text/plain": [
       "1"
      ]
     },
     "execution_count": 19,
     "metadata": {},
     "output_type": "execute_result"
    }
   ],
   "source": [
    "f6"
   ]
  },
  {
   "cell_type": "code",
   "execution_count": 20,
   "id": "7e2de8fb-6fb7-4ebe-8cc9-3989aeee2b44",
   "metadata": {},
   "outputs": [
    {
     "name": "stdout",
     "output_type": "stream",
     "text": [
      "(6/5)\n"
     ]
    }
   ],
   "source": [
    "f7=Frac.of(3,2.5)\n",
    "print(f7)"
   ]
  },
  {
   "cell_type": "code",
   "execution_count": 21,
   "id": "b75d6613-de0e-4f27-a966-1f1bf725f6d4",
   "metadata": {},
   "outputs": [
    {
     "data": {
      "text/plain": [
       "(159/70)"
      ]
     },
     "execution_count": 21,
     "metadata": {},
     "output_type": "execute_result"
    }
   ],
   "source": [
    "f7-1.5 + 6 -5.0 + Frac.of(11,7)"
   ]
  },
  {
   "cell_type": "code",
   "execution_count": 36,
   "id": "c273e485-d621-49d2-82c8-1d22cbd023c1",
   "metadata": {},
   "outputs": [
    {
     "data": {
      "text/plain": [
       "{(1, 2): (1/2),\n",
       " (1, 3): (1/3),\n",
       " (1, 1): 1,\n",
       " (1, 4): (1/4),\n",
       " (1, 8): (1/8),\n",
       " (1, 16): (1/16),\n",
       " (5, 6): (5/6),\n",
       " (2, 1): 2,\n",
       " (24, 1): 24,\n",
       " (8, 1): 8,\n",
       " (9, 1): 9,\n",
       " (0, 1): 0,\n",
       " (3, 2): (3/2),\n",
       " (7, 3): (7/3),\n",
       " (17, 6): (17/6),\n",
       " (10, 3): (10/3),\n",
       " (23, 6): (23/6),\n",
       " (13, 3): (13/3),\n",
       " (29, 6): (29/6),\n",
       " (16, 3): (16/3),\n",
       " (35, 6): (35/6),\n",
       " (4, 1): 4,\n",
       " (-4, 1): -4,\n",
       " (11, 6): (11/6),\n",
       " (6, 1): 6,\n",
       " (11, 1): 11,\n",
       " (4010149662499729, 562949953421312): (4010149662499729/562949953421312),\n",
       " (4291624639210385, 562949953421312): (4291624639210385/562949953421312),\n",
       " (22726498102504115, 1688849860263936): (22726498102504115/1688849860263936),\n",
       " (24415347962768051, 1688849860263936): (24415347962768051/1688849860263936),\n",
       " (1688849860263936, 24415347962768051): (1688849860263936/24415347962768051),\n",
       " (22726498102504115, 24415347962768051): (22726498102504115/24415347962768051),\n",
       " (24415347962768051, 22726498102504115): (24415347962768051/22726498102504115),\n",
       " (6, 5): (6/5),\n",
       " (-3, 2): (-3/2),\n",
       " (-3, 10): (-3/10),\n",
       " (57, 10): (57/10),\n",
       " (5, 1): 5,\n",
       " (-5, 1): -5,\n",
       " (7, 10): (7/10),\n",
       " (11, 7): (11/7),\n",
       " (159, 70): (159/70),\n",
       " (18014398509481984, 5404319552844595): (18014398509481984/5404319552844595),\n",
       " (2308094809027379, 562949953421312): (2308094809027379/562949953421312),\n",
       " (562949953421312, 2308094809027379): (562949953421312/2308094809027379)}"
      ]
     },
     "execution_count": 36,
     "metadata": {},
     "output_type": "execute_result"
    }
   ],
   "source": [
    "Frac._pool"
   ]
  }
 ],
 "metadata": {
  "kernelspec": {
   "display_name": "Python 3 (ipykernel)",
   "language": "python",
   "name": "python3"
  },
  "language_info": {
   "codemirror_mode": {
    "name": "ipython",
    "version": 3
   },
   "file_extension": ".py",
   "mimetype": "text/x-python",
   "name": "python",
   "nbconvert_exporter": "python",
   "pygments_lexer": "ipython3",
   "version": "3.9.12"
  }
 },
 "nbformat": 4,
 "nbformat_minor": 5
}
