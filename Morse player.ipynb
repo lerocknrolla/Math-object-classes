{
 "cells": [
  {
   "cell_type": "code",
   "execution_count": 6,
   "id": "62bb33c4-3375-4d15-92c1-9219c5a1a534",
   "metadata": {},
   "outputs": [],
   "source": [
    "from pysinewave import SineWave\n",
    "import time\n",
    "\n",
    "def strToMorse(s):\n",
    "  \"\"\"\n",
    "  requires: s is a string\n",
    "  returns a list where alphabet characters are translated into morse as dots and dashes, and every other character is interpreted as a space\n",
    "  \"\"\"\n",
    "  s = s.upper()\n",
    "  toMorse = {'A': '.-', 'B': '-...', 'C': '-.-.', 'D': '-..',\n",
    "             'E': '.', 'F': '..-.', 'G': '--.', 'H': '....',\n",
    "             'I': '..', 'J': '.---', 'K': '-.-', 'L': '.-..',\n",
    "             'M': '--', 'N': '-.', 'O': '---', 'P': '.--.',\n",
    "             'Q': '--.-', 'R': '.-.', 'S': '...', 'T': '-',\n",
    "             'U': '..-', 'V': '...-', 'W': '.--', 'X': '-..-',\n",
    "             'Y': '-.--', 'Z': '--..'}\n",
    "  result = [toMorse.get(c,' ') for c in s]\n",
    "  return result\n",
    "\n",
    "def playNote(pitch,duration,volume=5,p = False):\n",
    "  a = SineWave(pitch = pitch)\n",
    "  a.set_volume(volume)\n",
    "  a.play()\n",
    "  time.sleep(duration / 1000)\n",
    "  a.stop()\n",
    "  if p:\n",
    "    print(f'note {pitch} played for {duration} milisseconds')\n",
    "\n",
    "def morseToSound(m):\n",
    "  \"\"\"requires: m is a single-character string of a dot or dash\"\"\"\n",
    "  if m == '.':\n",
    "    return (2,70)\n",
    "  elif m == '-':\n",
    "    return (5,300)\n",
    "  else:\n",
    "    raise Exception('No. Just no.')\n",
    "    \n",
    "def playSingleMorse(m):\n",
    "  \"\"\"\n",
    "  requires: m a single-character string, either '.', '-' or ' '\n",
    "  plays dot as a short middle f,\n",
    "  dash as a longer middle d\n",
    "  and spaces as a short pause\n",
    "  \"\"\"\n",
    "  if m == ' ':\n",
    "    time.sleep(0.6)\n",
    "  else:\n",
    "    playNote(*morseToSound(m))\n",
    "    \n",
    "def playMorseChar(m):\n",
    "  \"\"\"\n",
    "  requires: m is a string of '.' and '-' or spaces\n",
    "  \"\"\"\n",
    "  for char in m:\n",
    "    playSingleMorse(char)\n",
    "    \n",
    "def playMorse(m, p = False):\n",
    "  \"\"\"\n",
    "  requires: m is a list where each element is a string of only either:\n",
    "    - dots and dashes, or\n",
    "    - a single space\n",
    "  requires: pysinewave and time modules loaded\n",
    "  \n",
    "  plays the dots as a short middle F, the dashes as a longer middle D,\n",
    "  and spaces as a short pause (longer than the ones already built-in between each element of the list)\n",
    "  \"\"\"\n",
    "  for char in m:\n",
    "    playMorseChar(char)\n",
    "    time.sleep(0.5)\n",
    "  if p:\n",
    "    print('Played everything!')"
   ]
  },
  {
   "cell_type": "code",
   "execution_count": 10,
   "id": "e0c256e5-1d7b-4586-99d2-cfec48f5b531",
   "metadata": {},
   "outputs": [
    {
     "name": "stdout",
     "output_type": "stream",
     "text": [
      "...  --  ...\n",
      "Played everything!\n"
     ]
    }
   ],
   "source": [
    "sound = strToMorse('SMS')\n",
    "print('  '.join(sound))\n",
    "playMorse(sound,True)"
   ]
  }
 ],
 "metadata": {
  "kernelspec": {
   "display_name": "Python 3 (ipykernel)",
   "language": "python",
   "name": "python3"
  },
  "language_info": {
   "codemirror_mode": {
    "name": "ipython",
    "version": 3
   },
   "file_extension": ".py",
   "mimetype": "text/x-python",
   "name": "python",
   "nbconvert_exporter": "python",
   "pygments_lexer": "ipython3",
   "version": "3.9.12"
  }
 },
 "nbformat": 4,
 "nbformat_minor": 5
}
